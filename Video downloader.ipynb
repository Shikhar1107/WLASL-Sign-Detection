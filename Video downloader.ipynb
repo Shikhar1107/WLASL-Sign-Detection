{
 "cells": [
  {
   "cell_type": "markdown",
   "id": "norman-south",
   "metadata": {},
   "source": [
    "### In this python notebook we will be downloading the videos from the links of each word or letter provided from WLASL official repo."
   ]
  },
  {
   "cell_type": "code",
   "execution_count": 1,
   "id": "domestic-scholarship",
   "metadata": {},
   "outputs": [],
   "source": [
    "import pandas as pd\n",
    "import urllib.request as ur\n",
    "import os\n",
    "import urllib.error"
   ]
  },
  {
   "cell_type": "markdown",
   "id": "billion-tracker",
   "metadata": {},
   "source": [
    "### The below csv file has been created by extracting data i.e. links for the video from the json file given in WLASL official github repo."
   ]
  },
  {
   "cell_type": "code",
   "execution_count": 2,
   "id": "intimate-assist",
   "metadata": {
    "scrolled": true
   },
   "outputs": [
    {
     "data": {
      "text/html": [
       "<div>\n",
       "<style scoped>\n",
       "    .dataframe tbody tr th:only-of-type {\n",
       "        vertical-align: middle;\n",
       "    }\n",
       "\n",
       "    .dataframe tbody tr th {\n",
       "        vertical-align: top;\n",
       "    }\n",
       "\n",
       "    .dataframe thead th {\n",
       "        text-align: right;\n",
       "    }\n",
       "</style>\n",
       "<table border=\"1\" class=\"dataframe\">\n",
       "  <thead>\n",
       "    <tr style=\"text-align: right;\">\n",
       "      <th></th>\n",
       "      <th>gloss</th>\n",
       "      <th>video_id</th>\n",
       "      <th>url</th>\n",
       "    </tr>\n",
       "  </thead>\n",
       "  <tbody>\n",
       "    <tr>\n",
       "      <th>0</th>\n",
       "      <td>book</td>\n",
       "      <td>69241</td>\n",
       "      <td>http://aslbricks.org/New/ASL-Videos/book.mp4</td>\n",
       "    </tr>\n",
       "    <tr>\n",
       "      <th>1</th>\n",
       "      <td>book</td>\n",
       "      <td>7069</td>\n",
       "      <td>https://signstock.blob.core.windows.net/signsc...</td>\n",
       "    </tr>\n",
       "    <tr>\n",
       "      <th>2</th>\n",
       "      <td>book</td>\n",
       "      <td>7068</td>\n",
       "      <td>https://s3-us-west-1.amazonaws.com/files.start...</td>\n",
       "    </tr>\n",
       "    <tr>\n",
       "      <th>3</th>\n",
       "      <td>book</td>\n",
       "      <td>7070</td>\n",
       "      <td>https://media.asldeafined.com/vocabulary/14666...</td>\n",
       "    </tr>\n",
       "    <tr>\n",
       "      <th>4</th>\n",
       "      <td>book</td>\n",
       "      <td>7099</td>\n",
       "      <td>http://www.aslsearch.com/signs/videos/book.mp4</td>\n",
       "    </tr>\n",
       "  </tbody>\n",
       "</table>\n",
       "</div>"
      ],
      "text/plain": [
       "  gloss  video_id                                                url\n",
       "0  book     69241       http://aslbricks.org/New/ASL-Videos/book.mp4\n",
       "1  book      7069  https://signstock.blob.core.windows.net/signsc...\n",
       "2  book      7068  https://s3-us-west-1.amazonaws.com/files.start...\n",
       "3  book      7070  https://media.asldeafined.com/vocabulary/14666...\n",
       "4  book      7099     http://www.aslsearch.com/signs/videos/book.mp4"
      ]
     },
     "execution_count": 2,
     "metadata": {},
     "output_type": "execute_result"
    }
   ],
   "source": [
    "df = pd.read_csv('features_df.csv')\n",
    "df.head()"
   ]
  },
  {
   "cell_type": "code",
   "execution_count": 3,
   "id": "applicable-count",
   "metadata": {},
   "outputs": [
    {
     "data": {
      "text/plain": [
       "(11980, 3)"
      ]
     },
     "execution_count": 3,
     "metadata": {},
     "output_type": "execute_result"
    }
   ],
   "source": [
    "df.shape"
   ]
  },
  {
   "cell_type": "code",
   "execution_count": 4,
   "id": "permanent-fetish",
   "metadata": {
    "scrolled": true
   },
   "outputs": [
    {
     "data": {
      "text/plain": [
       "gloss       0\n",
       "video_id    0\n",
       "url         0\n",
       "dtype: int64"
      ]
     },
     "execution_count": 4,
     "metadata": {},
     "output_type": "execute_result"
    }
   ],
   "source": [
    "df.isnull().sum()"
   ]
  },
  {
   "cell_type": "markdown",
   "id": "national-outreach",
   "metadata": {},
   "source": [
    "### Creating path where videos will be downloaded"
   ]
  },
  {
   "cell_type": "code",
   "execution_count": 9,
   "id": "driving-prediction",
   "metadata": {},
   "outputs": [],
   "source": [
    "path = \"D:\\GAIP\\Project\\DATA\"\n",
    "\n",
    "for s in df['gloss'].unique():\n",
    "    dir = os.path.join(path,s)\n",
    "    if not os.path.exists(dir):\n",
    "        os.mkdir(dir)"
   ]
  },
  {
   "cell_type": "code",
   "execution_count": 7,
   "id": "proof-stage",
   "metadata": {},
   "outputs": [
    {
     "data": {
      "text/plain": [
       "2000"
      ]
     },
     "execution_count": 7,
     "metadata": {},
     "output_type": "execute_result"
    }
   ],
   "source": [
    "df.gloss.nunique()"
   ]
  },
  {
   "cell_type": "markdown",
   "id": "theoretical-emergency",
   "metadata": {},
   "source": [
    "### Downloading videos and listing the index number of links which are not working properly"
   ]
  },
  {
   "cell_type": "code",
   "execution_count": null,
   "id": "blessed-ending",
   "metadata": {
    "scrolled": true
   },
   "outputs": [
    {
     "name": "stdout",
     "output_type": "stream",
     "text": [
      "404 5445\n",
      "404 5450\n",
      "404 5484\n",
      "404 5485\n",
      "404 5490\n",
      "404 5492\n",
      "404 5550\n",
      "404 5576\n",
      "404 5582\n",
      "404 5608\n",
      "404 5639\n",
      "404 5705\n",
      "404 5738\n",
      "404 5748\n",
      "404 5753\n",
      "404 5821\n",
      "404 5867\n",
      "404 5914\n",
      "404 5984\n",
      "404 6032\n",
      "404 6104\n",
      "404 6106\n",
      "404 6188\n",
      "404 6194\n",
      "404 6210\n",
      "404 6214\n",
      "404 6217\n",
      "404 6233\n",
      "404 6242\n",
      "404 6263\n",
      "404 6289\n",
      "404 6401\n",
      "404 6418\n",
      "404 6425\n",
      "404 6436\n",
      "404 6488\n",
      "404 6495\n",
      "404 6511\n",
      "404 6566\n",
      "404 6574\n",
      "404 6724\n",
      "404 6731\n",
      "404 6744\n",
      "404 6767\n",
      "404 6810\n",
      "404 6840\n",
      "404 6874\n",
      "404 6879\n",
      "404 6886\n",
      "404 6901\n",
      "404 6959\n",
      "404 6994\n",
      "404 7037\n",
      "404 7071\n",
      "404 7093\n",
      "404 7131\n",
      "404 7152\n",
      "404 7188\n",
      "404 7253\n",
      "404 7260\n",
      "404 7304\n",
      "404 7315\n",
      "404 7347\n",
      "404 7395\n",
      "404 7423\n",
      "404 7424\n",
      "404 7434\n",
      "404 7468\n",
      "404 7484\n",
      "404 7547\n",
      "404 7552\n",
      "404 7577\n",
      "404 7635\n",
      "404 7646\n",
      "404 7699\n",
      "404 7722\n",
      "404 7772\n",
      "404 7779\n",
      "404 7814\n",
      "404 7841\n",
      "404 7845\n",
      "404 7874\n",
      "404 7908\n",
      "404 7921\n",
      "404 7953\n",
      "404 7982\n",
      "404 7997\n",
      "404 8051\n",
      "404 8058\n",
      "404 8064\n",
      "404 8085\n",
      "404 8103\n",
      "404 8214\n",
      "404 8240\n",
      "404 8265\n",
      "404 8280\n",
      "404 8354\n",
      "404 8485\n",
      "404 8616\n",
      "404 8628\n",
      "404 8643\n",
      "404 8654\n",
      "404 8678\n",
      "404 8726\n",
      "404 8740\n",
      "404 8829\n",
      "404 8840\n",
      "404 8876\n",
      "404 8910\n",
      "404 8949\n",
      "404 8953\n",
      "404 8977\n",
      "404 9019\n",
      "404 9025\n",
      "404 9043\n",
      "404 9053\n",
      "404 9071\n",
      "404 9074\n",
      "404 9138\n",
      "404 9223\n",
      "404 9237\n",
      "404 9252\n",
      "404 9366\n",
      "404 9407\n",
      "404 9434\n",
      "404 9435\n",
      "404 9486\n",
      "404 9531\n",
      "404 9560\n",
      "404 9665\n",
      "404 9691\n",
      "404 9744\n",
      "404 9786\n",
      "404 9862\n",
      "404 9931\n",
      "404 10009\n",
      "404 10080\n",
      "404 10159\n",
      "404 10166\n",
      "404 10230\n",
      "404 10255\n",
      "404 10285\n",
      "404 10309\n",
      "404 10327\n",
      "404 10434\n",
      "404 10543\n",
      "404 10684\n",
      "404 10736\n",
      "404 10802\n",
      "404 10827\n",
      "404 10832\n",
      "404 10875\n",
      "404 10896\n",
      "404 10921\n",
      "404 10959\n",
      "404 10967\n",
      "404 10976\n",
      "404 10986\n",
      "404 11007\n",
      "404 11017\n",
      "404 11053\n",
      "404 11097\n",
      "404 11120\n",
      "404 11155\n",
      "404 11198\n",
      "404 11256\n",
      "404 11303\n",
      "404 11526\n",
      "404 11530\n",
      "404 11544\n",
      "404 11583\n",
      "404 11621\n",
      "404 11635\n",
      "404 11806\n",
      "404 11840\n",
      "404 11844\n",
      "404 11887\n",
      "404 11893\n",
      "404 11906\n",
      "404 11922\n",
      "404 11928\n",
      "404 11942\n",
      "404 11956\n"
     ]
    }
   ],
   "source": [
    "miss_index = []\n",
    "for i in range(5425,len(df.index)):\n",
    "    vid_name = df['gloss'][i]+str(i)+'.mp4'\n",
    "    try:\n",
    "        ur.urlretrieve(df['url'][i],vid_name) \n",
    "    except urllib.error.HTTPError as err:\n",
    "        print(str(err.code)+\" \"+str(i))\n",
    "        miss_index.append(i)"
   ]
  },
  {
   "cell_type": "code",
   "execution_count": null,
   "id": "characteristic-leather",
   "metadata": {},
   "outputs": [],
   "source": [
    "miss_index"
   ]
  }
 ],
 "metadata": {
  "kernelspec": {
   "display_name": "Python 3",
   "language": "python",
   "name": "python3"
  },
  "language_info": {
   "codemirror_mode": {
    "name": "ipython",
    "version": 3
   },
   "file_extension": ".py",
   "mimetype": "text/x-python",
   "name": "python",
   "nbconvert_exporter": "python",
   "pygments_lexer": "ipython3",
   "version": "3.9.4"
  }
 },
 "nbformat": 4,
 "nbformat_minor": 5
}
