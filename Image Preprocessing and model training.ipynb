{
 "cells": [
  {
   "cell_type": "code",
   "execution_count": 2,
   "id": "closed-hindu",
   "metadata": {},
   "outputs": [],
   "source": [
    "import pandas as pd\n",
    "import os\n",
    "import matplotlib.pyplot as plt\n",
    "import re\n",
    "import shutil\n",
    "import pathlib\n",
    "import numpy as np\n",
    "import matplotlib.pyplot as plt\n",
    "import seaborn as sns\n",
    "import tensorflow as tf\n",
    "import tensorflow_hub as hub\n",
    "from tensorflow import keras\n",
    "from tensorflow.keras.models import Sequential\n",
    "from tensorflow.keras.layers import Dense\n",
    "from tensorflow.keras.layers import Dropout,Flatten\n",
    "from tensorflow.keras.layers import Conv2D,MaxPooling2D\n",
    "import cv2\n",
    "from sklearn.model_selection import train_test_split\n",
    "import os\n",
    "import random\n",
    "from keras.preprocessing.image import ImageDataGenerator"
   ]
  },
  {
   "cell_type": "code",
   "execution_count": 3,
   "id": "given-regular",
   "metadata": {},
   "outputs": [
    {
     "data": {
      "text/html": [
       "<div>\n",
       "<style scoped>\n",
       "    .dataframe tbody tr th:only-of-type {\n",
       "        vertical-align: middle;\n",
       "    }\n",
       "\n",
       "    .dataframe tbody tr th {\n",
       "        vertical-align: top;\n",
       "    }\n",
       "\n",
       "    .dataframe thead th {\n",
       "        text-align: right;\n",
       "    }\n",
       "</style>\n",
       "<table border=\"1\" class=\"dataframe\">\n",
       "  <thead>\n",
       "    <tr style=\"text-align: right;\">\n",
       "      <th></th>\n",
       "      <th>image</th>\n",
       "      <th>class</th>\n",
       "    </tr>\n",
       "  </thead>\n",
       "  <tbody>\n",
       "    <tr>\n",
       "      <th>0</th>\n",
       "      <td>a lot8744_frame0.jpg</td>\n",
       "      <td>a lot</td>\n",
       "    </tr>\n",
       "    <tr>\n",
       "      <th>1</th>\n",
       "      <td>a lot8744_frame1.jpg</td>\n",
       "      <td>a lot</td>\n",
       "    </tr>\n",
       "    <tr>\n",
       "      <th>2</th>\n",
       "      <td>a lot8745_frame0.jpg</td>\n",
       "      <td>a lot</td>\n",
       "    </tr>\n",
       "    <tr>\n",
       "      <th>3</th>\n",
       "      <td>a lot8745_frame1.jpg</td>\n",
       "      <td>a lot</td>\n",
       "    </tr>\n",
       "    <tr>\n",
       "      <th>4</th>\n",
       "      <td>a lot8745_frame2.jpg</td>\n",
       "      <td>a lot</td>\n",
       "    </tr>\n",
       "  </tbody>\n",
       "</table>\n",
       "</div>"
      ],
      "text/plain": [
       "                  image  class\n",
       "0  a lot8744_frame0.jpg  a lot\n",
       "1  a lot8744_frame1.jpg  a lot\n",
       "2  a lot8745_frame0.jpg  a lot\n",
       "3  a lot8745_frame1.jpg  a lot\n",
       "4  a lot8745_frame2.jpg  a lot"
      ]
     },
     "execution_count": 3,
     "metadata": {},
     "output_type": "execute_result"
    }
   ],
   "source": [
    "df = pd.read_csv('train_new.csv')\n",
    "df.head()"
   ]
  },
  {
   "cell_type": "code",
   "execution_count": 4,
   "id": "general-locking",
   "metadata": {
    "scrolled": false
   },
   "outputs": [
    {
     "data": {
      "text/html": [
       "<div>\n",
       "<style scoped>\n",
       "    .dataframe tbody tr th:only-of-type {\n",
       "        vertical-align: middle;\n",
       "    }\n",
       "\n",
       "    .dataframe tbody tr th {\n",
       "        vertical-align: top;\n",
       "    }\n",
       "\n",
       "    .dataframe thead th {\n",
       "        text-align: right;\n",
       "    }\n",
       "</style>\n",
       "<table border=\"1\" class=\"dataframe\">\n",
       "  <thead>\n",
       "    <tr style=\"text-align: right;\">\n",
       "      <th></th>\n",
       "      <th>class</th>\n",
       "    </tr>\n",
       "  </thead>\n",
       "  <tbody>\n",
       "    <tr>\n",
       "      <th>cousin</th>\n",
       "      <td>47</td>\n",
       "    </tr>\n",
       "    <tr>\n",
       "      <th>thin</th>\n",
       "      <td>45</td>\n",
       "    </tr>\n",
       "    <tr>\n",
       "      <th>go</th>\n",
       "      <td>40</td>\n",
       "    </tr>\n",
       "    <tr>\n",
       "      <th>computer</th>\n",
       "      <td>39</td>\n",
       "    </tr>\n",
       "    <tr>\n",
       "      <th>drink</th>\n",
       "      <td>39</td>\n",
       "    </tr>\n",
       "    <tr>\n",
       "      <th>interest</th>\n",
       "      <td>39</td>\n",
       "    </tr>\n",
       "    <tr>\n",
       "      <th>cool</th>\n",
       "      <td>39</td>\n",
       "    </tr>\n",
       "    <tr>\n",
       "      <th>thanksgiving</th>\n",
       "      <td>38</td>\n",
       "    </tr>\n",
       "    <tr>\n",
       "      <th>short</th>\n",
       "      <td>38</td>\n",
       "    </tr>\n",
       "    <tr>\n",
       "      <th>shirt</th>\n",
       "      <td>38</td>\n",
       "    </tr>\n",
       "    <tr>\n",
       "      <th>later</th>\n",
       "      <td>37</td>\n",
       "    </tr>\n",
       "    <tr>\n",
       "      <th>who</th>\n",
       "      <td>37</td>\n",
       "    </tr>\n",
       "    <tr>\n",
       "      <th>trade</th>\n",
       "      <td>37</td>\n",
       "    </tr>\n",
       "    <tr>\n",
       "      <th>apple</th>\n",
       "      <td>37</td>\n",
       "    </tr>\n",
       "    <tr>\n",
       "      <th>before</th>\n",
       "      <td>37</td>\n",
       "    </tr>\n",
       "    <tr>\n",
       "      <th>tall</th>\n",
       "      <td>37</td>\n",
       "    </tr>\n",
       "    <tr>\n",
       "      <th>accident</th>\n",
       "      <td>37</td>\n",
       "    </tr>\n",
       "    <tr>\n",
       "      <th>appointment</th>\n",
       "      <td>36</td>\n",
       "    </tr>\n",
       "    <tr>\n",
       "      <th>man</th>\n",
       "      <td>36</td>\n",
       "    </tr>\n",
       "    <tr>\n",
       "      <th>help</th>\n",
       "      <td>36</td>\n",
       "    </tr>\n",
       "  </tbody>\n",
       "</table>\n",
       "</div>"
      ],
      "text/plain": [
       "              class\n",
       "cousin           47\n",
       "thin             45\n",
       "go               40\n",
       "computer         39\n",
       "drink            39\n",
       "interest         39\n",
       "cool             39\n",
       "thanksgiving     38\n",
       "short            38\n",
       "shirt            38\n",
       "later            37\n",
       "who              37\n",
       "trade            37\n",
       "apple            37\n",
       "before           37\n",
       "tall             37\n",
       "accident         37\n",
       "appointment      36\n",
       "man              36\n",
       "help             36"
      ]
     },
     "execution_count": 4,
     "metadata": {},
     "output_type": "execute_result"
    }
   ],
   "source": [
    "top = df['class'].value_counts()\n",
    "ds= pd.DataFrame(top[:20])\n",
    "ds"
   ]
  },
  {
   "cell_type": "code",
   "execution_count": 5,
   "id": "crude-employment",
   "metadata": {},
   "outputs": [
    {
     "data": {
      "text/plain": [
       "['cousin',\n",
       " 'thin',\n",
       " 'go',\n",
       " 'computer',\n",
       " 'drink',\n",
       " 'interest',\n",
       " 'cool',\n",
       " 'thanksgiving',\n",
       " 'short',\n",
       " 'shirt',\n",
       " 'later',\n",
       " 'who',\n",
       " 'trade',\n",
       " 'apple',\n",
       " 'before',\n",
       " 'tall',\n",
       " 'accident',\n",
       " 'appointment',\n",
       " 'man',\n",
       " 'help']"
      ]
     },
     "execution_count": 5,
     "metadata": {},
     "output_type": "execute_result"
    }
   ],
   "source": [
    "import cv2\n",
    "labels = list(ds.index)\n",
    "labels"
   ]
  },
  {
   "cell_type": "code",
   "execution_count": 9,
   "id": "weird-fault",
   "metadata": {},
   "outputs": [
    {
     "ename": "OSError",
     "evalue": "[WinError 123] The filename, directory name, or volume label syntax is incorrect: 'D:\\\\GAIP\\\\Project\\train_small/'",
     "output_type": "error",
     "traceback": [
      "\u001b[1;31m---------------------------------------------------------------------------\u001b[0m",
      "\u001b[1;31mOSError\u001b[0m                                   Traceback (most recent call last)",
      "\u001b[1;32m<ipython-input-9-b2a0d379f887>\u001b[0m in \u001b[0;36m<module>\u001b[1;34m\u001b[0m\n\u001b[0;32m      1\u001b[0m \u001b[1;32mimport\u001b[0m \u001b[0mtensorflow\u001b[0m \u001b[1;32mas\u001b[0m \u001b[0mtf\u001b[0m\u001b[1;33m\u001b[0m\u001b[1;33m\u001b[0m\u001b[0m\n\u001b[1;32m----> 2\u001b[1;33m tf.keras.preprocessing.image_dataset_from_directory(\n\u001b[0m\u001b[0;32m      3\u001b[0m     \u001b[1;34m'D:\\GAIP\\Project\\train_small/'\u001b[0m\u001b[1;33m,\u001b[0m\u001b[1;33m\u001b[0m\u001b[1;33m\u001b[0m\u001b[0m\n\u001b[0;32m      4\u001b[0m     \u001b[0mlabels\u001b[0m\u001b[1;33m=\u001b[0m\u001b[1;34m\"inferred\"\u001b[0m\u001b[1;33m,\u001b[0m\u001b[1;33m\u001b[0m\u001b[1;33m\u001b[0m\u001b[0m\n\u001b[0;32m      5\u001b[0m     \u001b[0mlabel_mode\u001b[0m\u001b[1;33m=\u001b[0m\u001b[1;34m\"int\"\u001b[0m\u001b[1;33m,\u001b[0m\u001b[1;33m\u001b[0m\u001b[1;33m\u001b[0m\u001b[0m\n",
      "\u001b[1;32mc:\\users\\acer\\appdata\\local\\programs\\python\\python39\\lib\\site-packages\\keras\\preprocessing\\image_dataset.py\u001b[0m in \u001b[0;36mimage_dataset_from_directory\u001b[1;34m(directory, labels, label_mode, class_names, color_mode, batch_size, image_size, shuffle, seed, validation_split, subset, interpolation, follow_links, crop_to_aspect_ratio, **kwargs)\u001b[0m\n\u001b[0;32m    190\u001b[0m   \u001b[1;32mif\u001b[0m \u001b[0mseed\u001b[0m \u001b[1;32mis\u001b[0m \u001b[1;32mNone\u001b[0m\u001b[1;33m:\u001b[0m\u001b[1;33m\u001b[0m\u001b[1;33m\u001b[0m\u001b[0m\n\u001b[0;32m    191\u001b[0m     \u001b[0mseed\u001b[0m \u001b[1;33m=\u001b[0m \u001b[0mnp\u001b[0m\u001b[1;33m.\u001b[0m\u001b[0mrandom\u001b[0m\u001b[1;33m.\u001b[0m\u001b[0mrandint\u001b[0m\u001b[1;33m(\u001b[0m\u001b[1;36m1e6\u001b[0m\u001b[1;33m)\u001b[0m\u001b[1;33m\u001b[0m\u001b[1;33m\u001b[0m\u001b[0m\n\u001b[1;32m--> 192\u001b[1;33m   image_paths, labels, class_names = dataset_utils.index_directory(\n\u001b[0m\u001b[0;32m    193\u001b[0m       \u001b[0mdirectory\u001b[0m\u001b[1;33m,\u001b[0m\u001b[1;33m\u001b[0m\u001b[1;33m\u001b[0m\u001b[0m\n\u001b[0;32m    194\u001b[0m       \u001b[0mlabels\u001b[0m\u001b[1;33m,\u001b[0m\u001b[1;33m\u001b[0m\u001b[1;33m\u001b[0m\u001b[0m\n",
      "\u001b[1;32mc:\\users\\acer\\appdata\\local\\programs\\python\\python39\\lib\\site-packages\\keras\\preprocessing\\dataset_utils.py\u001b[0m in \u001b[0;36mindex_directory\u001b[1;34m(directory, labels, formats, class_names, shuffle, seed, follow_links)\u001b[0m\n\u001b[0;32m     64\u001b[0m   \u001b[1;32melse\u001b[0m\u001b[1;33m:\u001b[0m\u001b[1;33m\u001b[0m\u001b[1;33m\u001b[0m\u001b[0m\n\u001b[0;32m     65\u001b[0m     \u001b[0msubdirs\u001b[0m \u001b[1;33m=\u001b[0m \u001b[1;33m[\u001b[0m\u001b[1;33m]\u001b[0m\u001b[1;33m\u001b[0m\u001b[1;33m\u001b[0m\u001b[0m\n\u001b[1;32m---> 66\u001b[1;33m     \u001b[1;32mfor\u001b[0m \u001b[0msubdir\u001b[0m \u001b[1;32min\u001b[0m \u001b[0msorted\u001b[0m\u001b[1;33m(\u001b[0m\u001b[0mos\u001b[0m\u001b[1;33m.\u001b[0m\u001b[0mlistdir\u001b[0m\u001b[1;33m(\u001b[0m\u001b[0mdirectory\u001b[0m\u001b[1;33m)\u001b[0m\u001b[1;33m)\u001b[0m\u001b[1;33m:\u001b[0m\u001b[1;33m\u001b[0m\u001b[1;33m\u001b[0m\u001b[0m\n\u001b[0m\u001b[0;32m     67\u001b[0m       \u001b[1;32mif\u001b[0m \u001b[0mos\u001b[0m\u001b[1;33m.\u001b[0m\u001b[0mpath\u001b[0m\u001b[1;33m.\u001b[0m\u001b[0misdir\u001b[0m\u001b[1;33m(\u001b[0m\u001b[0mos\u001b[0m\u001b[1;33m.\u001b[0m\u001b[0mpath\u001b[0m\u001b[1;33m.\u001b[0m\u001b[0mjoin\u001b[0m\u001b[1;33m(\u001b[0m\u001b[0mdirectory\u001b[0m\u001b[1;33m,\u001b[0m \u001b[0msubdir\u001b[0m\u001b[1;33m)\u001b[0m\u001b[1;33m)\u001b[0m\u001b[1;33m:\u001b[0m\u001b[1;33m\u001b[0m\u001b[1;33m\u001b[0m\u001b[0m\n\u001b[0;32m     68\u001b[0m         \u001b[0msubdirs\u001b[0m\u001b[1;33m.\u001b[0m\u001b[0mappend\u001b[0m\u001b[1;33m(\u001b[0m\u001b[0msubdir\u001b[0m\u001b[1;33m)\u001b[0m\u001b[1;33m\u001b[0m\u001b[1;33m\u001b[0m\u001b[0m\n",
      "\u001b[1;31mOSError\u001b[0m: [WinError 123] The filename, directory name, or volume label syntax is incorrect: 'D:\\\\GAIP\\\\Project\\train_small/'"
     ]
    }
   ],
   "source": [
    "import tensorflow as tf\n",
    "tf.keras.preprocessing.image_dataset_from_directory(\n",
    "    'D:\\GAIP\\Project\\train_small/',\n",
    "    labels=\"inferred\",\n",
    "    label_mode=\"int\",\n",
    "    class_names=None,\n",
    "    color_mode=\"rgb\",\n",
    "    batch_size=32,\n",
    "    image_size=(256, 256),\n",
    "    shuffle=True,\n",
    "    seed=None,\n",
    "    validation_split=None,\n",
    "    subset=None,\n",
    "    interpolation=\"bilinear\",\n",
    "    follow_links=False,\n",
    "    crop_to_aspect_ratio=False,\n",
    ")"
   ]
  },
  {
   "cell_type": "code",
   "execution_count": 10,
   "id": "former-lemon",
   "metadata": {},
   "outputs": [
    {
     "data": {
      "text/html": [
       "<div>\n",
       "<style scoped>\n",
       "    .dataframe tbody tr th:only-of-type {\n",
       "        vertical-align: middle;\n",
       "    }\n",
       "\n",
       "    .dataframe tbody tr th {\n",
       "        vertical-align: top;\n",
       "    }\n",
       "\n",
       "    .dataframe thead th {\n",
       "        text-align: right;\n",
       "    }\n",
       "</style>\n",
       "<table border=\"1\" class=\"dataframe\">\n",
       "  <thead>\n",
       "    <tr style=\"text-align: right;\">\n",
       "      <th></th>\n",
       "      <th>class</th>\n",
       "      <th>sign</th>\n",
       "    </tr>\n",
       "  </thead>\n",
       "  <tbody>\n",
       "    <tr>\n",
       "      <th>cousin</th>\n",
       "      <td>47</td>\n",
       "      <td>cousin</td>\n",
       "    </tr>\n",
       "    <tr>\n",
       "      <th>thin</th>\n",
       "      <td>45</td>\n",
       "      <td>thin</td>\n",
       "    </tr>\n",
       "    <tr>\n",
       "      <th>go</th>\n",
       "      <td>40</td>\n",
       "      <td>go</td>\n",
       "    </tr>\n",
       "    <tr>\n",
       "      <th>computer</th>\n",
       "      <td>39</td>\n",
       "      <td>computer</td>\n",
       "    </tr>\n",
       "    <tr>\n",
       "      <th>drink</th>\n",
       "      <td>39</td>\n",
       "      <td>drink</td>\n",
       "    </tr>\n",
       "    <tr>\n",
       "      <th>interest</th>\n",
       "      <td>39</td>\n",
       "      <td>interest</td>\n",
       "    </tr>\n",
       "    <tr>\n",
       "      <th>cool</th>\n",
       "      <td>39</td>\n",
       "      <td>cool</td>\n",
       "    </tr>\n",
       "    <tr>\n",
       "      <th>thanksgiving</th>\n",
       "      <td>38</td>\n",
       "      <td>thanksgiving</td>\n",
       "    </tr>\n",
       "    <tr>\n",
       "      <th>short</th>\n",
       "      <td>38</td>\n",
       "      <td>short</td>\n",
       "    </tr>\n",
       "    <tr>\n",
       "      <th>shirt</th>\n",
       "      <td>38</td>\n",
       "      <td>shirt</td>\n",
       "    </tr>\n",
       "    <tr>\n",
       "      <th>later</th>\n",
       "      <td>37</td>\n",
       "      <td>later</td>\n",
       "    </tr>\n",
       "    <tr>\n",
       "      <th>who</th>\n",
       "      <td>37</td>\n",
       "      <td>who</td>\n",
       "    </tr>\n",
       "    <tr>\n",
       "      <th>trade</th>\n",
       "      <td>37</td>\n",
       "      <td>trade</td>\n",
       "    </tr>\n",
       "    <tr>\n",
       "      <th>apple</th>\n",
       "      <td>37</td>\n",
       "      <td>apple</td>\n",
       "    </tr>\n",
       "    <tr>\n",
       "      <th>before</th>\n",
       "      <td>37</td>\n",
       "      <td>before</td>\n",
       "    </tr>\n",
       "    <tr>\n",
       "      <th>tall</th>\n",
       "      <td>37</td>\n",
       "      <td>tall</td>\n",
       "    </tr>\n",
       "    <tr>\n",
       "      <th>accident</th>\n",
       "      <td>37</td>\n",
       "      <td>accident</td>\n",
       "    </tr>\n",
       "    <tr>\n",
       "      <th>appointment</th>\n",
       "      <td>36</td>\n",
       "      <td>appointment</td>\n",
       "    </tr>\n",
       "    <tr>\n",
       "      <th>man</th>\n",
       "      <td>36</td>\n",
       "      <td>man</td>\n",
       "    </tr>\n",
       "    <tr>\n",
       "      <th>help</th>\n",
       "      <td>36</td>\n",
       "      <td>help</td>\n",
       "    </tr>\n",
       "  </tbody>\n",
       "</table>\n",
       "</div>"
      ],
      "text/plain": [
       "              class          sign\n",
       "cousin           47        cousin\n",
       "thin             45          thin\n",
       "go               40            go\n",
       "computer         39      computer\n",
       "drink            39         drink\n",
       "interest         39      interest\n",
       "cool             39          cool\n",
       "thanksgiving     38  thanksgiving\n",
       "short            38         short\n",
       "shirt            38         shirt\n",
       "later            37         later\n",
       "who              37           who\n",
       "trade            37         trade\n",
       "apple            37         apple\n",
       "before           37        before\n",
       "tall             37          tall\n",
       "accident         37      accident\n",
       "appointment      36   appointment\n",
       "man              36           man\n",
       "help             36          help"
      ]
     },
     "execution_count": 10,
     "metadata": {},
     "output_type": "execute_result"
    }
   ],
   "source": [
    "ds['sign'] = list(ds.index)\n",
    "ds"
   ]
  },
  {
   "cell_type": "code",
   "execution_count": 12,
   "id": "generic-technician",
   "metadata": {},
   "outputs": [
    {
     "data": {
      "text/html": [
       "<div>\n",
       "<style scoped>\n",
       "    .dataframe tbody tr th:only-of-type {\n",
       "        vertical-align: middle;\n",
       "    }\n",
       "\n",
       "    .dataframe tbody tr th {\n",
       "        vertical-align: top;\n",
       "    }\n",
       "\n",
       "    .dataframe thead th {\n",
       "        text-align: right;\n",
       "    }\n",
       "</style>\n",
       "<table border=\"1\" class=\"dataframe\">\n",
       "  <thead>\n",
       "    <tr style=\"text-align: right;\">\n",
       "      <th></th>\n",
       "      <th>class</th>\n",
       "      <th>sign</th>\n",
       "    </tr>\n",
       "  </thead>\n",
       "  <tbody>\n",
       "    <tr>\n",
       "      <th>NaN</th>\n",
       "      <td>47</td>\n",
       "      <td>cousin</td>\n",
       "    </tr>\n",
       "    <tr>\n",
       "      <th>NaN</th>\n",
       "      <td>45</td>\n",
       "      <td>thin</td>\n",
       "    </tr>\n",
       "    <tr>\n",
       "      <th>NaN</th>\n",
       "      <td>40</td>\n",
       "      <td>go</td>\n",
       "    </tr>\n",
       "    <tr>\n",
       "      <th>NaN</th>\n",
       "      <td>39</td>\n",
       "      <td>computer</td>\n",
       "    </tr>\n",
       "    <tr>\n",
       "      <th>NaN</th>\n",
       "      <td>39</td>\n",
       "      <td>drink</td>\n",
       "    </tr>\n",
       "    <tr>\n",
       "      <th>NaN</th>\n",
       "      <td>39</td>\n",
       "      <td>interest</td>\n",
       "    </tr>\n",
       "    <tr>\n",
       "      <th>NaN</th>\n",
       "      <td>39</td>\n",
       "      <td>cool</td>\n",
       "    </tr>\n",
       "    <tr>\n",
       "      <th>NaN</th>\n",
       "      <td>38</td>\n",
       "      <td>thanksgiving</td>\n",
       "    </tr>\n",
       "    <tr>\n",
       "      <th>NaN</th>\n",
       "      <td>38</td>\n",
       "      <td>short</td>\n",
       "    </tr>\n",
       "    <tr>\n",
       "      <th>NaN</th>\n",
       "      <td>38</td>\n",
       "      <td>shirt</td>\n",
       "    </tr>\n",
       "    <tr>\n",
       "      <th>NaN</th>\n",
       "      <td>37</td>\n",
       "      <td>later</td>\n",
       "    </tr>\n",
       "    <tr>\n",
       "      <th>NaN</th>\n",
       "      <td>37</td>\n",
       "      <td>who</td>\n",
       "    </tr>\n",
       "    <tr>\n",
       "      <th>NaN</th>\n",
       "      <td>37</td>\n",
       "      <td>trade</td>\n",
       "    </tr>\n",
       "    <tr>\n",
       "      <th>NaN</th>\n",
       "      <td>37</td>\n",
       "      <td>apple</td>\n",
       "    </tr>\n",
       "    <tr>\n",
       "      <th>NaN</th>\n",
       "      <td>37</td>\n",
       "      <td>before</td>\n",
       "    </tr>\n",
       "    <tr>\n",
       "      <th>NaN</th>\n",
       "      <td>37</td>\n",
       "      <td>tall</td>\n",
       "    </tr>\n",
       "    <tr>\n",
       "      <th>NaN</th>\n",
       "      <td>37</td>\n",
       "      <td>accident</td>\n",
       "    </tr>\n",
       "    <tr>\n",
       "      <th>NaN</th>\n",
       "      <td>36</td>\n",
       "      <td>appointment</td>\n",
       "    </tr>\n",
       "    <tr>\n",
       "      <th>NaN</th>\n",
       "      <td>36</td>\n",
       "      <td>man</td>\n",
       "    </tr>\n",
       "    <tr>\n",
       "      <th>NaN</th>\n",
       "      <td>36</td>\n",
       "      <td>help</td>\n",
       "    </tr>\n",
       "  </tbody>\n",
       "</table>\n",
       "</div>"
      ],
      "text/plain": [
       "     class          sign\n",
       "NaN     47        cousin\n",
       "NaN     45          thin\n",
       "NaN     40            go\n",
       "NaN     39      computer\n",
       "NaN     39         drink\n",
       "NaN     39      interest\n",
       "NaN     39          cool\n",
       "NaN     38  thanksgiving\n",
       "NaN     38         short\n",
       "NaN     38         shirt\n",
       "NaN     37         later\n",
       "NaN     37           who\n",
       "NaN     37         trade\n",
       "NaN     37         apple\n",
       "NaN     37        before\n",
       "NaN     37          tall\n",
       "NaN     37      accident\n",
       "NaN     36   appointment\n",
       "NaN     36           man\n",
       "NaN     36          help"
      ]
     },
     "execution_count": 12,
     "metadata": {},
     "output_type": "execute_result"
    }
   ],
   "source": [
    "ds.index = pd.to_numeric(ds.index, errors='coerce')\n",
    "#ds.set_index()\n",
    "ds"
   ]
  },
  {
   "cell_type": "code",
   "execution_count": 13,
   "id": "alpine-noise",
   "metadata": {
    "scrolled": true
   },
   "outputs": [
    {
     "data": {
      "text/plain": [
       "{0: 'cousin',\n",
       " 1: 'thin',\n",
       " 2: 'go',\n",
       " 3: 'computer',\n",
       " 4: 'drink',\n",
       " 5: 'interest',\n",
       " 6: 'cool',\n",
       " 7: 'thanksgiving',\n",
       " 8: 'short',\n",
       " 9: 'shirt',\n",
       " 10: 'later',\n",
       " 11: 'who',\n",
       " 12: 'trade',\n",
       " 13: 'apple',\n",
       " 14: 'before',\n",
       " 15: 'tall',\n",
       " 16: 'accident',\n",
       " 17: 'appointment',\n",
       " 18: 'man',\n",
       " 19: 'help'}"
      ]
     },
     "execution_count": 13,
     "metadata": {},
     "output_type": "execute_result"
    }
   ],
   "source": [
    "labels_dict = dict(zip(range(0,20),ds.sign))\n",
    "labels_dict"
   ]
  },
  {
   "cell_type": "code",
   "execution_count": 39,
   "id": "genuine-tampa",
   "metadata": {},
   "outputs": [
    {
     "data": {
      "text/plain": [
       "20"
      ]
     },
     "execution_count": 39,
     "metadata": {},
     "output_type": "execute_result"
    }
   ],
   "source": [
    "len(labels_dict.values())"
   ]
  },
  {
   "cell_type": "code",
   "execution_count": 20,
   "id": "emerging-station",
   "metadata": {},
   "outputs": [
    {
     "data": {
      "text/plain": [
       "WindowsPath('D:/GAIP/Project/train_small/cousin/cousin105_frame0.jpg')"
      ]
     },
     "execution_count": 20,
     "metadata": {},
     "output_type": "execute_result"
    }
   ],
   "source": [
    "import pathlib\n",
    "path = 'D:\\GAIP/Project/train_small/'\n",
    "sign_images_dict = {}\n",
    "len_classes = os.listdir(path)\n",
    "path1 = pathlib.Path(path)\n",
    "for img in range(len(len_classes)):\n",
    "    sign_images_dict[img] = list(path1.glob(str(labels_dict[img])+'/*'))\n",
    "sign_images_dict[0][0]"
   ]
  },
  {
   "cell_type": "code",
   "execution_count": 21,
   "id": "ahead-borough",
   "metadata": {},
   "outputs": [
    {
     "data": {
      "text/plain": [
       "array([[[40, 44,  9],\n",
       "        [40, 44,  9],\n",
       "        [40, 44,  9],\n",
       "        ...,\n",
       "        [45, 51, 10],\n",
       "        [45, 51, 10],\n",
       "        [44, 50,  9]],\n",
       "\n",
       "       [[40, 44,  9],\n",
       "        [40, 44,  9],\n",
       "        [40, 44,  9],\n",
       "        ...,\n",
       "        [45, 51, 10],\n",
       "        [45, 51, 10],\n",
       "        [44, 50,  9]],\n",
       "\n",
       "       [[40, 44,  9],\n",
       "        [40, 44,  9],\n",
       "        [40, 44,  9],\n",
       "        ...,\n",
       "        [45, 51, 10],\n",
       "        [45, 51, 10],\n",
       "        [44, 50,  9]],\n",
       "\n",
       "       ...,\n",
       "\n",
       "       [[46, 50,  9],\n",
       "        [47, 50, 11],\n",
       "        [48, 52, 10],\n",
       "        ...,\n",
       "        [56, 62, 13],\n",
       "        [56, 62, 13],\n",
       "        [54, 60, 13]],\n",
       "\n",
       "       [[46, 50,  9],\n",
       "        [47, 50, 11],\n",
       "        [48, 52, 11],\n",
       "        ...,\n",
       "        [56, 62, 13],\n",
       "        [56, 62, 13],\n",
       "        [54, 60, 13]],\n",
       "\n",
       "       [[46, 49, 10],\n",
       "        [47, 50, 11],\n",
       "        [48, 51, 11],\n",
       "        ...,\n",
       "        [60, 65, 16],\n",
       "        [59, 62, 16],\n",
       "        [58, 61, 15]]], dtype=uint8)"
      ]
     },
     "execution_count": 21,
     "metadata": {},
     "output_type": "execute_result"
    }
   ],
   "source": [
    "import numpy as np\n",
    "x,y=[],[]\n",
    "for sign_label,images in sign_images_dict.items():\n",
    "    for image in images:\n",
    "        img = cv2.imread(str(image))\n",
    "        resized_img = cv2.resize(img,(224,224))\n",
    "        x.append(resized_img)\n",
    "        y.append(sign_label)\n",
    "x = np.array(x)\n",
    "y = np.array(y)\n",
    "x[0]"
   ]
  },
  {
   "cell_type": "code",
   "execution_count": 22,
   "id": "finished-groove",
   "metadata": {},
   "outputs": [
    {
     "data": {
      "text/plain": [
       "(733, 224, 224, 3)"
      ]
     },
     "execution_count": 22,
     "metadata": {},
     "output_type": "execute_result"
    }
   ],
   "source": [
    "x.shape"
   ]
  },
  {
   "cell_type": "code",
   "execution_count": 25,
   "id": "valid-publication",
   "metadata": {},
   "outputs": [
    {
     "data": {
      "text/plain": [
       "0"
      ]
     },
     "execution_count": 25,
     "metadata": {},
     "output_type": "execute_result"
    }
   ],
   "source": [
    "y[0]"
   ]
  },
  {
   "cell_type": "code",
   "execution_count": 31,
   "id": "taken-solomon",
   "metadata": {},
   "outputs": [
    {
     "data": {
      "text/plain": [
       "array([[[0.15686275, 0.17254902, 0.03529412],\n",
       "        [0.15686275, 0.17254902, 0.03529412],\n",
       "        [0.15686275, 0.17254902, 0.03529412],\n",
       "        ...,\n",
       "        [0.17647059, 0.2       , 0.03921569],\n",
       "        [0.17647059, 0.2       , 0.03921569],\n",
       "        [0.17254902, 0.19607843, 0.03529412]],\n",
       "\n",
       "       [[0.15686275, 0.17254902, 0.03529412],\n",
       "        [0.15686275, 0.17254902, 0.03529412],\n",
       "        [0.15686275, 0.17254902, 0.03529412],\n",
       "        ...,\n",
       "        [0.17647059, 0.2       , 0.03921569],\n",
       "        [0.17647059, 0.2       , 0.03921569],\n",
       "        [0.17254902, 0.19607843, 0.03529412]],\n",
       "\n",
       "       [[0.15686275, 0.17254902, 0.03529412],\n",
       "        [0.15686275, 0.17254902, 0.03529412],\n",
       "        [0.15686275, 0.17254902, 0.03529412],\n",
       "        ...,\n",
       "        [0.17647059, 0.2       , 0.03921569],\n",
       "        [0.17647059, 0.2       , 0.03921569],\n",
       "        [0.17254902, 0.19607843, 0.03529412]],\n",
       "\n",
       "       ...,\n",
       "\n",
       "       [[0.18039216, 0.19607843, 0.03529412],\n",
       "        [0.18431373, 0.19607843, 0.04313725],\n",
       "        [0.18823529, 0.20392157, 0.03921569],\n",
       "        ...,\n",
       "        [0.21960784, 0.24313725, 0.05098039],\n",
       "        [0.21960784, 0.24313725, 0.05098039],\n",
       "        [0.21176471, 0.23529412, 0.05098039]],\n",
       "\n",
       "       [[0.18039216, 0.19607843, 0.03529412],\n",
       "        [0.18431373, 0.19607843, 0.04313725],\n",
       "        [0.18823529, 0.20392157, 0.04313725],\n",
       "        ...,\n",
       "        [0.21960784, 0.24313725, 0.05098039],\n",
       "        [0.21960784, 0.24313725, 0.05098039],\n",
       "        [0.21176471, 0.23529412, 0.05098039]],\n",
       "\n",
       "       [[0.18039216, 0.19215686, 0.03921569],\n",
       "        [0.18431373, 0.19607843, 0.04313725],\n",
       "        [0.18823529, 0.2       , 0.04313725],\n",
       "        ...,\n",
       "        [0.23529412, 0.25490196, 0.0627451 ],\n",
       "        [0.23137255, 0.24313725, 0.0627451 ],\n",
       "        [0.22745098, 0.23921569, 0.05882353]]])"
      ]
     },
     "execution_count": 31,
     "metadata": {},
     "output_type": "execute_result"
    }
   ],
   "source": [
    "x = x/255.0\n",
    "x[0]"
   ]
  },
  {
   "cell_type": "code",
   "execution_count": 29,
   "id": "numerous-phone",
   "metadata": {
    "scrolled": true
   },
   "outputs": [
    {
     "data": {
      "image/png": "[encoded data removed]",
      "text/plain": [
       "<PIL.JpegImagePlugin.JpegImageFile image mode=RGB size=656x370 at 0x1BDBAE38EB0>"
      ]
     },
     "execution_count": 29,
     "metadata": {},
     "output_type": "execute_result"
    }
   ],
   "source": [
    "import PIL\n",
    "PIL.Image.open(str(sign_images_dict[1][19]))"
   ]
  },
  {
   "cell_type": "code",
   "execution_count": null,
   "id": "manual-mortality",
   "metadata": {},
   "outputs": [],
   "source": []
  },
  {
   "cell_type": "code",
   "execution_count": 33,
   "id": "critical-hacker",
   "metadata": {},
   "outputs": [],
   "source": [
    "from sklearn.model_selection import train_test_split\n",
    "\n",
    "# partition the data into training and testing splits using 75% of\n",
    "# the data for training and the remaining 25% for testing\n",
    "(trainX, testX, trainY, testY) = train_test_split(x, y,test_size=0.25)"
   ]
  },
  {
   "cell_type": "code",
   "execution_count": 37,
   "id": "fresh-democracy",
   "metadata": {},
   "outputs": [
    {
     "data": {
      "text/plain": [
       "array([ 7,  9, 13,  6, 17, 11,  6, 17,  7, 12,  1,  6, 15, 16, 16,  3,  2,\n",
       "        9,  5,  0,  3,  4, 12, 10, 15,  3,  9,  1,  7, 17,  4,  1,  0,  3,\n",
       "        1,  7, 18, 18,  2,  9,  4, 17, 17,  6, 15, 10,  0,  0,  6,  3, 13,\n",
       "       15,  0, 16,  2,  1, 13, 12,  3,  8, 11, 12,  7, 15,  5,  2, 11, 18,\n",
       "       18,  4, 11, 14,  9,  8,  0,  7, 16,  4,  3,  8,  9, 15,  2,  4,  7,\n",
       "        6, 17,  6,  0, 17,  8, 11,  6, 12,  1, 17, 16,  3, 13,  0,  1,  1,\n",
       "        5, 17, 13, 17, 12,  1,  8,  0,  3,  4, 14,  1, 17, 17, 13,  8,  1,\n",
       "        6,  9, 18, 13,  9,  2,  4,  4,  6, 15,  4, 13,  7,  9, 15, 15,  8,\n",
       "       16,  3,  7,  2,  9, 12,  8, 14,  9,  4,  0, 17,  0,  0,  2,  1, 14,\n",
       "        3, 15,  9,  4, 10,  6,  9,  8, 14,  6,  1, 13,  7, 18, 13, 12,  2,\n",
       "        2, 11,  6, 18, 13,  5,  1,  8, 18, 14,  2,  3,  9,  0,  0, 16, 14,\n",
       "        1, 10,  3, 11, 10, 18,  3, 12,  7, 18,  1, 10, 14,  6,  1,  7, 11,\n",
       "        8, 15, 10, 18,  2,  1,  2,  2, 13,  0, 10,  5, 10, 14,  9,  5, 18,\n",
       "       11,  9, 17, 12,  8,  9,  6,  0, 17,  8,  2, 10,  2,  0, 13, 12,  2,\n",
       "       11, 14, 13,  6, 16,  8,  0, 13,  2,  9, 12,  5,  4,  7, 12,  3, 17,\n",
       "       16,  1, 12,  2,  9,  0, 13, 13,  4,  9,  2, 11, 10, 16, 14, 17,  8,\n",
       "        1,  3,  5, 11,  0, 13, 16,  1, 16, 15, 16, 10, 11, 12, 16, 18,  3,\n",
       "        5, 15,  8, 18,  9,  4, 12, 14, 11,  4,  3, 15,  1, 16,  1,  0, 14,\n",
       "        3, 10,  8,  7,  2, 15,  3, 10,  2,  7, 11, 15, 12, 12, 10,  5, 13,\n",
       "       17,  2,  7,  1, 12, 18, 11, 17,  0,  9, 13, 16,  5,  2, 17, 18,  5,\n",
       "       13,  4,  0,  9,  1,  3, 13,  9,  5, 10, 10,  8, 12, 11,  7, 13,  5,\n",
       "        4, 17,  1, 18, 15,  9,  1, 16, 15, 14, 18, 16, 14, 14,  1, 14, 14,\n",
       "        1, 18, 12, 18, 17,  7,  0, 10,  7, 14,  6,  5, 11,  4,  7,  1,  7,\n",
       "       15, 10, 18,  0, 13, 17,  4,  9,  0,  3,  3,  5, 18,  0, 18, 12,  6,\n",
       "       16, 18,  2, 16, 15, 16, 10, 12,  7, 17, 13, 16, 13,  7, 18,  5, 10,\n",
       "        5,  0, 15, 16,  7,  2, 16,  0,  9,  4,  7,  5,  7, 13,  8, 14,  4,\n",
       "        1, 10,  7, 14,  9,  4,  6,  8,  1, 17,  9,  5,  0, 11, 14,  2,  6,\n",
       "        9,  4, 14, 17, 11, 11,  7, 17, 15, 10,  5, 15, 11,  1,  0, 16,  6,\n",
       "        1, 18,  9,  3,  7,  3, 13, 16,  0, 10,  5,  6,  4,  5,  0,  2, 12,\n",
       "       15, 12,  9,  9, 11, 11, 12,  0, 13,  6,  2,  6,  2,  8, 10, 16,  8,\n",
       "       16,  5, 11,  0,  1,  5, 10, 15,  5, 10, 12, 16,  9,  7,  8,  4, 14,\n",
       "       13, 11,  0,  4, 12,  5, 15,  7, 12, 10, 18,  3, 10, 16,  6,  2,  6,\n",
       "        1,  1,  2,  8,  5])"
      ]
     },
     "execution_count": 37,
     "metadata": {},
     "output_type": "execute_result"
    }
   ],
   "source": [
    "trainY"
   ]
  },
  {
   "cell_type": "code",
   "execution_count": 36,
   "id": "supported-michael",
   "metadata": {},
   "outputs": [],
   "source": [
    "datagen=ImageDataGenerator(width_shift_range=0.1,height_shift_range=0.1,zoom_range=0.2,shear_range=0.1,rotation_range=10)\n",
    "datagen.fit(trainX)\n",
    "batches=datagen.flow(trainX,trainY,batch_size=20)\n",
    "#train_generator = image_data_generator.flow_from_directory(directory, batch_size=32, class_mode='categorical', target_size=(299,299), subset=None, seed=None)    \n",
    "x_batch,y_batch=next(batches)"
   ]
  },
  {
   "cell_type": "code",
   "execution_count": 46,
   "id": "minor-wheel",
   "metadata": {},
   "outputs": [
    {
     "ename": "SyntaxError",
     "evalue": "positional argument follows keyword argument (<ipython-input-46-b1be622ea154>, line 23)",
     "output_type": "error",
     "traceback": [
      "\u001b[1;36m  File \u001b[1;32m\"<ipython-input-46-b1be622ea154>\"\u001b[1;36m, line \u001b[1;32m23\u001b[0m\n\u001b[1;33m    H = model.fit(x=trainX, trainY, batch_size=batches,steps_per_epoch=len(trainX)//32, validation_data=datagen.flow(testX, testY),validation_steps=len(testX) // 32,epochs=200)\u001b[0m\n\u001b[1;37m                                                                                                                                                                               ^\u001b[0m\n\u001b[1;31mSyntaxError\u001b[0m\u001b[1;31m:\u001b[0m positional argument follows keyword argument\n"
     ]
    }
   ],
   "source": [
    "from tensorflow.keras.applications import ResNet50\n",
    "from tensorflow.keras import layers\n",
    "from tensorflow.keras.layers import AveragePooling2D\n",
    "baseModel = ResNet50(weights=\"imagenet\", include_top=False,input_tensor=layers.Input(shape=(224, 224, 3)))\n",
    "headModel = baseModel.output\n",
    "headModel = AveragePooling2D(pool_size=(7, 7))(headModel)\n",
    "headModel = Flatten(name=\"flatten\")(headModel)\n",
    "headModel = Dense(512, activation=\"relu\")(headModel)\n",
    "headModel = Dropout(0.2)(headModel)\n",
    "headModel = Dense(len(labels_dict.values()), activation=\"softmax\")(headModel)\n",
    "# place the head FC model on top of the base model (this will become\n",
    "# the actual model we will train)\n",
    "model = Model(inputs=baseModel.input, outputs=headModel)\n",
    "# loop over all layers in the base model and freeze them so they will\n",
    "# *not* be updated during the training process\n",
    "for layer in baseModel.layers:\n",
    "    opt = SGD(lr=1e-4, momentum=0.9, decay=1e-4 / 200)\n",
    "    model.compile(loss=\"categorical_crossentropy\", optimizer=opt,metrics=[\"accuracy\"])\n",
    "# train the head of the network for a few epochs (all other layers\n",
    "# are frozen) -- this will allow the new FC layers to start to become\n",
    "# initialized with actual \"learned\" values versus pure random\n",
    "    print(\"[INFO] training head...\")\n",
    "H = model.fit(x=trainX, trainY, batch_size=batches,steps_per_epoch=len(trainX)//32, validation_data=datagen.flow(testX, testY),validation_steps=len(testX) // 32,epochs=200)"
   ]
  },
  {
   "cell_type": "code",
   "execution_count": null,
   "id": "prostate-japanese",
   "metadata": {},
   "outputs": [],
   "source": []
  }
 ],
 "metadata": {
  "kernelspec": {
   "display_name": "Python 3",
   "language": "python",
   "name": "python3"
  },
  "language_info": {
   "codemirror_mode": {
    "name": "ipython",
    "version": 3
   },
   "file_extension": ".py",
   "mimetype": "text/x-python",
   "name": "python",
   "nbconvert_exporter": "python",
   "pygments_lexer": "ipython3",
   "version": "3.9.4"
  }
 },
 "nbformat": 4,
 "nbformat_minor": 5
}
